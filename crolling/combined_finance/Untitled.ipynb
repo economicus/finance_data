{
 "cells": [
  {
   "cell_type": "code",
   "execution_count": 1,
   "id": "538da1c9-8843-4488-9a72-15a25c51f4c1",
   "metadata": {},
   "outputs": [],
   "source": [
    "import pandas as pd"
   ]
  },
  {
   "cell_type": "code",
   "execution_count": 17,
   "id": "ff69fe38-6d28-4065-ab94-8fab4d9a9b4f",
   "metadata": {},
   "outputs": [],
   "source": [
    "df = pd.read_csv('combinded.csv', encoding='cp949')"
   ]
  },
  {
   "cell_type": "code",
   "execution_count": 6,
   "id": "89d3d00a-a20d-4629-97d3-c5bc57aba8eb",
   "metadata": {},
   "outputs": [],
   "source": [
    "def except_kor(g_df):\n",
    "\t\"\"\" 예외 케이스 처리 함수 \"\"\"\n",
    "\tkor = ['흑전', '적전', '적지', '완전잠식']\n",
    "\tg_df['매출액증가율(전년동기)'] = g_df['매출액증가율(전년동기)'].apply(lambda x : 0 if x in kor else x)\n",
    "\tg_df['영업이익증가율(전년동기)'] = g_df['영업이익증가율(전년동기)'].apply(lambda x : 0 if x in kor else x)\n",
    "\tg_df['당기순이익증가율(전년동기)'] = g_df['당기순이익증가율(전년동기)'].apply(lambda x : 0 if x in kor else x)\n",
    "\tg_df['부채비율'] = g_df['부채비율'].apply(lambda x : 0 if x in kor else x)\n",
    "\tg_df['ROE(영업이익)'] = g_df['ROE(영업이익)'].apply(lambda x : 0 if x in kor else x)\n",
    "\tg_df['ROE(당기순이익)'] = g_df['ROE(당기순이익)'].apply(lambda x : 0 if x in kor else x)\n",
    "\treturn g_df"
   ]
  },
  {
   "cell_type": "code",
   "execution_count": 15,
   "id": "12e27c45-22dc-4c95-8f29-8aafd4b7bbd3",
   "metadata": {},
   "outputs": [],
   "source": [
    "df = df.astype({'매출액증가율(전년동기)':'float64'})\n",
    "df = df.astype({'부채비율':'float64'})\n",
    "df = df.astype({'ROE(영업이익)':'float64'})\n",
    "df = df.astype({'ROE(당기순이익)':'float64'})"
   ]
  },
  {
   "cell_type": "code",
   "execution_count": 16,
   "id": "3e4ab179-4a38-4c45-9bce-faf7d04c6c5c",
   "metadata": {},
   "outputs": [],
   "source": [
    "df.to_csv('combinded.csv', index = False, encoding='cp949')"
   ]
  },
  {
   "cell_type": "code",
   "execution_count": 19,
   "id": "b3bd6df9-7b3a-4c11-a902-f78471ec5e1b",
   "metadata": {},
   "outputs": [
    {
     "data": {
      "text/plain": [
       "pandas.core.series.Series"
      ]
     },
     "execution_count": 19,
     "metadata": {},
     "output_type": "execute_result"
    }
   ],
   "source": [
    "type(df['ROE(영업이익)']"
   ]
  },
  {
   "cell_type": "code",
   "execution_count": null,
   "id": "c9c7e9e3-fe38-4b61-92b3-0fd29ef620ea",
   "metadata": {},
   "outputs": [],
   "source": []
  }
 ],
 "metadata": {
  "kernelspec": {
   "display_name": "Python 3 (ipykernel)",
   "language": "python",
   "name": "python3"
  },
  "language_info": {
   "codemirror_mode": {
    "name": "ipython",
    "version": 3
   },
   "file_extension": ".py",
   "mimetype": "text/x-python",
   "name": "python",
   "nbconvert_exporter": "python",
   "pygments_lexer": "ipython3",
   "version": "3.9.7"
  }
 },
 "nbformat": 4,
 "nbformat_minor": 5
}
